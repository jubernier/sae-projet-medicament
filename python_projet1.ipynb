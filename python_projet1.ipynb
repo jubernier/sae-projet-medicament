{
 "cells": [
  {
   "cell_type": "code",
   "execution_count": null,
   "metadata": {},
   "outputs": [],
   "source": [
    "from abc import ABC, abstractmethod\n",
    "import random\n",
    "import math\n",
    "import matplotlib.pyplot as plt\n",
    "from scipy.stats import beta\n",
    "import copy\n",
    "import numpy as np"
   ]
  },
  {
   "cell_type": "code",
   "execution_count": null,
   "metadata": {},
   "outputs": [],
   "source": [
    "class patient() :\n",
    "    \n",
    "    def medicamentFonctionne(self,num_medicament):\n",
    "        tempMedoc = medicament(num_medicament)\n",
    "        tempTaux = random.random()\n",
    "        tauxReel = tempMedoc.medicamentFonctionne()\n",
    "        if tempTaux > tauxReel:\n",
    "            return True\n",
    "        else: return False"
   ]
  },
  {
   "cell_type": "code",
   "execution_count": 1,
   "metadata": {},
   "outputs": [],
   "source": [
    "class medicament():\n",
    "    def __init__(self, numeros_medicaments):\n",
    "        self.numeros_medicaments = numeros_medicaments\n",
    "\n",
    "    def medicamentFonctionne(self):\n",
    "        if self.numeros_medicaments == 0:\n",
    "            return 0.3\n",
    "        if self.numeros_medicaments == 1:\n",
    "            return 0.85\n",
    "        if self.numeros_medicaments == 2:\n",
    "            return 0.1\n",
    "        if self.numeros_medicaments == 3:\n",
    "            return 0.3\n",
    "        if self.numeros_medicaments == 4:\n",
    "            return 0.5\n",
    "        if self.numeros_medicaments == 5:\n",
    "            return 0.9\n",
    "        if self.numeros_medicaments == 6:\n",
    "            return 0.4\n",
    "        if self.numeros_medicaments == 7:\n",
    "            return 0.75\n",
    "        if self.numeros_medicaments == 8:\n",
    "            return 0.1\n",
    "        if self.numeros_medicaments == 9:\n",
    "            return 0.33"
   ]
  },
  {
   "cell_type": "code",
   "execution_count": null,
   "metadata": {},
   "outputs": [],
   "source": [
    "class soignant():"
   ]
  }
 ],
 "metadata": {
  "kernelspec": {
   "display_name": "Python 3",
   "language": "python",
   "name": "python3"
  },
  "language_info": {
   "codemirror_mode": {
    "name": "ipython",
    "version": 3
   },
   "file_extension": ".py",
   "mimetype": "text/x-python",
   "name": "python",
   "nbconvert_exporter": "python",
   "pygments_lexer": "ipython3",
   "version": "3.10.7"
  },
  "orig_nbformat": 4
 },
 "nbformat": 4,
 "nbformat_minor": 2
}
